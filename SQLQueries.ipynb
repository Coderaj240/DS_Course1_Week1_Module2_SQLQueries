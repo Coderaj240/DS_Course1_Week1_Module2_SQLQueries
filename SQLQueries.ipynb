{
  "cells": [
    {
      "cell_type": "markdown",
      "metadata": {
        "id": "GM-y3qoOSFvZ"
      },
      "source": [
        "# Putting it all together"
      ]
    },
    {
      "cell_type": "markdown",
      "metadata": {
        "id": "3aU9q-t2SYLF"
      },
      "source": [
        "## Learning Objectives\n",
        "\n",
        "* Retrieve a subset of records from a table using a WHERE clause\n",
        "* Filter results using conditional operators\n",
        "* Apply an aggregate function to the result of a filtered query\n",
        "* Order the results of your queries by using ORDER BY (ASC & DESC)\n",
        "* Limit the number of records returned by a query using LIMIT\n",
        "* Write SQL queries to filter and order results\n",
        "* Describe the relationship between aggregate functions and GROUP BY statements\n",
        "* Use Group BY statements in SQL to apply aggregate functions"
      ]
    },
    {
      "cell_type": "markdown",
      "metadata": {
        "id": "8b4eeTglMaA9"
      },
      "source": [
        "## Part I: Filtering Data with SQL"
      ]
    },
    {
      "cell_type": "code",
      "execution_count": null,
      "metadata": {
        "id": "OJy8eGZxMaTA"
      },
      "outputs": [],
      "source": [
        "# CodeGrade step0\n",
        "\n",
        "# Run this cell without changes\n",
        "\n",
        "import pandas as pd\n",
        "import sqlite3\n",
        "\n",
        "# Create the connection\n",
        "# Note the connect is 'conn1' since there will be multiple .db used\n",
        "conn1 = sqlite3.connect('planets.db')"
      ]
    },
    {
      "cell_type": "markdown",
      "metadata": {
        "id": "ZvQT_iUvSpcf"
      },
      "source": [
        "The database contains a single table, 'planets' that will be used for filtering data with SQL.\n",
        "\n",
        "This is the schema:\n",
        "\n",
        "\n",
        "```\n",
        "CREATE TABLE planets (\n",
        "  id INTEGER PRIMARY KEY,\n",
        "  name TEXT,\n",
        "  color TEXT,\n",
        "  num_of_moons INTEGER,\n",
        "  mass REAL,\n",
        "  rings BOOLEAN\n",
        ");\n",
        "```\n",
        "\n",
        "The data looks like this:\n"
      ]
    },
    {
      "cell_type": "code",
      "execution_count": null,
      "metadata": {
        "colab": {
          "base_uri": "https://localhost:8080/",
          "height": 300
        },
        "id": "NRBX5XgvTpoH",
        "outputId": "65e725f1-27fc-4e3e-e17a-a816195fafad"
      },
      "outputs": [
        {
          "data": {
            "application/vnd.google.colaboratory.intrinsic+json": {
              "summary": "{\n  \"name\": \"\\\"\\\"\\\", conn1)\",\n  \"rows\": 8,\n  \"fields\": [\n    {\n      \"column\": \"id\",\n      \"properties\": {\n        \"dtype\": \"number\",\n        \"std\": 2,\n        \"min\": 1,\n        \"max\": 8,\n        \"num_unique_values\": 8,\n        \"samples\": [\n          2,\n          6,\n          1\n        ],\n        \"semantic_type\": \"\",\n        \"description\": \"\"\n      }\n    },\n    {\n      \"column\": \"name\",\n      \"properties\": {\n        \"dtype\": \"string\",\n        \"num_unique_values\": 8,\n        \"samples\": [\n          \"Venus\",\n          \"Saturn\",\n          \"Mercury\"\n        ],\n        \"semantic_type\": \"\",\n        \"description\": \"\"\n      }\n    },\n    {\n      \"column\": \"color\",\n      \"properties\": {\n        \"dtype\": \"string\",\n        \"num_unique_values\": 8,\n        \"samples\": [\n          \"yellow\",\n          \"hazel\",\n          \"gray\"\n        ],\n        \"semantic_type\": \"\",\n        \"description\": \"\"\n      }\n    },\n    {\n      \"column\": \"num_of_moons\",\n      \"properties\": {\n        \"dtype\": \"number\",\n        \"std\": 28,\n        \"min\": 0,\n        \"max\": 68,\n        \"num_unique_values\": 7,\n        \"samples\": [\n          0,\n          1,\n          27\n        ],\n        \"semantic_type\": \"\",\n        \"description\": \"\"\n      }\n    },\n    {\n      \"column\": \"mass\",\n      \"properties\": {\n        \"dtype\": \"number\",\n        \"std\": 110.59829419376877,\n        \"min\": 0.11,\n        \"max\": 317.9,\n        \"num_unique_values\": 8,\n        \"samples\": [\n          0.82,\n          95.19,\n          0.55\n        ],\n        \"semantic_type\": \"\",\n        \"description\": \"\"\n      }\n    },\n    {\n      \"column\": \"rings\",\n      \"properties\": {\n        \"dtype\": \"number\",\n        \"std\": 0,\n        \"min\": 0,\n        \"max\": 1,\n        \"num_unique_values\": 2,\n        \"samples\": [\n          1,\n          0\n        ],\n        \"semantic_type\": \"\",\n        \"description\": \"\"\n      }\n    }\n  ]\n}",
              "type": "dataframe"
            },
            "text/html": [
              "\n",
              "  <div id=\"df-65c4b69f-9f23-40a1-9ff2-7bea89d5978e\" class=\"colab-df-container\">\n",
              "    <div>\n",
              "<style scoped>\n",
              "    .dataframe tbody tr th:only-of-type {\n",
              "        vertical-align: middle;\n",
              "    }\n",
              "\n",
              "    .dataframe tbody tr th {\n",
              "        vertical-align: top;\n",
              "    }\n",
              "\n",
              "    .dataframe thead th {\n",
              "        text-align: right;\n",
              "    }\n",
              "</style>\n",
              "<table border=\"1\" class=\"dataframe\">\n",
              "  <thead>\n",
              "    <tr style=\"text-align: right;\">\n",
              "      <th></th>\n",
              "      <th>id</th>\n",
              "      <th>name</th>\n",
              "      <th>color</th>\n",
              "      <th>num_of_moons</th>\n",
              "      <th>mass</th>\n",
              "      <th>rings</th>\n",
              "    </tr>\n",
              "  </thead>\n",
              "  <tbody>\n",
              "    <tr>\n",
              "      <th>0</th>\n",
              "      <td>1</td>\n",
              "      <td>Mercury</td>\n",
              "      <td>gray</td>\n",
              "      <td>0</td>\n",
              "      <td>0.55</td>\n",
              "      <td>0</td>\n",
              "    </tr>\n",
              "    <tr>\n",
              "      <th>1</th>\n",
              "      <td>2</td>\n",
              "      <td>Venus</td>\n",
              "      <td>yellow</td>\n",
              "      <td>0</td>\n",
              "      <td>0.82</td>\n",
              "      <td>0</td>\n",
              "    </tr>\n",
              "    <tr>\n",
              "      <th>2</th>\n",
              "      <td>3</td>\n",
              "      <td>Earth</td>\n",
              "      <td>blue</td>\n",
              "      <td>1</td>\n",
              "      <td>1.00</td>\n",
              "      <td>0</td>\n",
              "    </tr>\n",
              "    <tr>\n",
              "      <th>3</th>\n",
              "      <td>4</td>\n",
              "      <td>Mars</td>\n",
              "      <td>red</td>\n",
              "      <td>2</td>\n",
              "      <td>0.11</td>\n",
              "      <td>0</td>\n",
              "    </tr>\n",
              "    <tr>\n",
              "      <th>4</th>\n",
              "      <td>5</td>\n",
              "      <td>Jupiter</td>\n",
              "      <td>orange</td>\n",
              "      <td>68</td>\n",
              "      <td>317.90</td>\n",
              "      <td>0</td>\n",
              "    </tr>\n",
              "    <tr>\n",
              "      <th>5</th>\n",
              "      <td>6</td>\n",
              "      <td>Saturn</td>\n",
              "      <td>hazel</td>\n",
              "      <td>62</td>\n",
              "      <td>95.19</td>\n",
              "      <td>1</td>\n",
              "    </tr>\n",
              "    <tr>\n",
              "      <th>6</th>\n",
              "      <td>7</td>\n",
              "      <td>Uranus</td>\n",
              "      <td>light blue</td>\n",
              "      <td>27</td>\n",
              "      <td>14.54</td>\n",
              "      <td>1</td>\n",
              "    </tr>\n",
              "    <tr>\n",
              "      <th>7</th>\n",
              "      <td>8</td>\n",
              "      <td>Neptune</td>\n",
              "      <td>dark blue</td>\n",
              "      <td>14</td>\n",
              "      <td>17.15</td>\n",
              "      <td>1</td>\n",
              "    </tr>\n",
              "  </tbody>\n",
              "</table>\n",
              "</div>\n",
              "    <div class=\"colab-df-buttons\">\n",
              "\n",
              "  <div class=\"colab-df-container\">\n",
              "    <button class=\"colab-df-convert\" onclick=\"convertToInteractive('df-65c4b69f-9f23-40a1-9ff2-7bea89d5978e')\"\n",
              "            title=\"Convert this dataframe to an interactive table.\"\n",
              "            style=\"display:none;\">\n",
              "\n",
              "  <svg xmlns=\"http://www.w3.org/2000/svg\" height=\"24px\" viewBox=\"0 -960 960 960\">\n",
              "    <path d=\"M120-120v-720h720v720H120Zm60-500h600v-160H180v160Zm220 220h160v-160H400v160Zm0 220h160v-160H400v160ZM180-400h160v-160H180v160Zm440 0h160v-160H620v160ZM180-180h160v-160H180v160Zm440 0h160v-160H620v160Z\"/>\n",
              "  </svg>\n",
              "    </button>\n",
              "\n",
              "  <style>\n",
              "    .colab-df-container {\n",
              "      display:flex;\n",
              "      gap: 12px;\n",
              "    }\n",
              "\n",
              "    .colab-df-convert {\n",
              "      background-color: #E8F0FE;\n",
              "      border: none;\n",
              "      border-radius: 50%;\n",
              "      cursor: pointer;\n",
              "      display: none;\n",
              "      fill: #1967D2;\n",
              "      height: 32px;\n",
              "      padding: 0 0 0 0;\n",
              "      width: 32px;\n",
              "    }\n",
              "\n",
              "    .colab-df-convert:hover {\n",
              "      background-color: #E2EBFA;\n",
              "      box-shadow: 0px 1px 2px rgba(60, 64, 67, 0.3), 0px 1px 3px 1px rgba(60, 64, 67, 0.15);\n",
              "      fill: #174EA6;\n",
              "    }\n",
              "\n",
              "    .colab-df-buttons div {\n",
              "      margin-bottom: 4px;\n",
              "    }\n",
              "\n",
              "    [theme=dark] .colab-df-convert {\n",
              "      background-color: #3B4455;\n",
              "      fill: #D2E3FC;\n",
              "    }\n",
              "\n",
              "    [theme=dark] .colab-df-convert:hover {\n",
              "      background-color: #434B5C;\n",
              "      box-shadow: 0px 1px 3px 1px rgba(0, 0, 0, 0.15);\n",
              "      filter: drop-shadow(0px 1px 2px rgba(0, 0, 0, 0.3));\n",
              "      fill: #FFFFFF;\n",
              "    }\n",
              "  </style>\n",
              "\n",
              "    <script>\n",
              "      const buttonEl =\n",
              "        document.querySelector('#df-65c4b69f-9f23-40a1-9ff2-7bea89d5978e button.colab-df-convert');\n",
              "      buttonEl.style.display =\n",
              "        google.colab.kernel.accessAllowed ? 'block' : 'none';\n",
              "\n",
              "      async function convertToInteractive(key) {\n",
              "        const element = document.querySelector('#df-65c4b69f-9f23-40a1-9ff2-7bea89d5978e');\n",
              "        const dataTable =\n",
              "          await google.colab.kernel.invokeFunction('convertToInteractive',\n",
              "                                                    [key], {});\n",
              "        if (!dataTable) return;\n",
              "\n",
              "        const docLinkHtml = 'Like what you see? Visit the ' +\n",
              "          '<a target=\"_blank\" href=https://colab.research.google.com/notebooks/data_table.ipynb>data table notebook</a>'\n",
              "          + ' to learn more about interactive tables.';\n",
              "        element.innerHTML = '';\n",
              "        dataTable['output_type'] = 'display_data';\n",
              "        await google.colab.output.renderOutput(dataTable, element);\n",
              "        const docLink = document.createElement('div');\n",
              "        docLink.innerHTML = docLinkHtml;\n",
              "        element.appendChild(docLink);\n",
              "      }\n",
              "    </script>\n",
              "  </div>\n",
              "\n",
              "\n",
              "<div id=\"df-d2aefb7a-8fd6-42cd-87f1-11e106526ab2\">\n",
              "  <button class=\"colab-df-quickchart\" onclick=\"quickchart('df-d2aefb7a-8fd6-42cd-87f1-11e106526ab2')\"\n",
              "            title=\"Suggest charts\"\n",
              "            style=\"display:none;\">\n",
              "\n",
              "<svg xmlns=\"http://www.w3.org/2000/svg\" height=\"24px\"viewBox=\"0 0 24 24\"\n",
              "     width=\"24px\">\n",
              "    <g>\n",
              "        <path d=\"M19 3H5c-1.1 0-2 .9-2 2v14c0 1.1.9 2 2 2h14c1.1 0 2-.9 2-2V5c0-1.1-.9-2-2-2zM9 17H7v-7h2v7zm4 0h-2V7h2v10zm4 0h-2v-4h2v4z\"/>\n",
              "    </g>\n",
              "</svg>\n",
              "  </button>\n",
              "\n",
              "<style>\n",
              "  .colab-df-quickchart {\n",
              "      --bg-color: #E8F0FE;\n",
              "      --fill-color: #1967D2;\n",
              "      --hover-bg-color: #E2EBFA;\n",
              "      --hover-fill-color: #174EA6;\n",
              "      --disabled-fill-color: #AAA;\n",
              "      --disabled-bg-color: #DDD;\n",
              "  }\n",
              "\n",
              "  [theme=dark] .colab-df-quickchart {\n",
              "      --bg-color: #3B4455;\n",
              "      --fill-color: #D2E3FC;\n",
              "      --hover-bg-color: #434B5C;\n",
              "      --hover-fill-color: #FFFFFF;\n",
              "      --disabled-bg-color: #3B4455;\n",
              "      --disabled-fill-color: #666;\n",
              "  }\n",
              "\n",
              "  .colab-df-quickchart {\n",
              "    background-color: var(--bg-color);\n",
              "    border: none;\n",
              "    border-radius: 50%;\n",
              "    cursor: pointer;\n",
              "    display: none;\n",
              "    fill: var(--fill-color);\n",
              "    height: 32px;\n",
              "    padding: 0;\n",
              "    width: 32px;\n",
              "  }\n",
              "\n",
              "  .colab-df-quickchart:hover {\n",
              "    background-color: var(--hover-bg-color);\n",
              "    box-shadow: 0 1px 2px rgba(60, 64, 67, 0.3), 0 1px 3px 1px rgba(60, 64, 67, 0.15);\n",
              "    fill: var(--button-hover-fill-color);\n",
              "  }\n",
              "\n",
              "  .colab-df-quickchart-complete:disabled,\n",
              "  .colab-df-quickchart-complete:disabled:hover {\n",
              "    background-color: var(--disabled-bg-color);\n",
              "    fill: var(--disabled-fill-color);\n",
              "    box-shadow: none;\n",
              "  }\n",
              "\n",
              "  .colab-df-spinner {\n",
              "    border: 2px solid var(--fill-color);\n",
              "    border-color: transparent;\n",
              "    border-bottom-color: var(--fill-color);\n",
              "    animation:\n",
              "      spin 1s steps(1) infinite;\n",
              "  }\n",
              "\n",
              "  @keyframes spin {\n",
              "    0% {\n",
              "      border-color: transparent;\n",
              "      border-bottom-color: var(--fill-color);\n",
              "      border-left-color: var(--fill-color);\n",
              "    }\n",
              "    20% {\n",
              "      border-color: transparent;\n",
              "      border-left-color: var(--fill-color);\n",
              "      border-top-color: var(--fill-color);\n",
              "    }\n",
              "    30% {\n",
              "      border-color: transparent;\n",
              "      border-left-color: var(--fill-color);\n",
              "      border-top-color: var(--fill-color);\n",
              "      border-right-color: var(--fill-color);\n",
              "    }\n",
              "    40% {\n",
              "      border-color: transparent;\n",
              "      border-right-color: var(--fill-color);\n",
              "      border-top-color: var(--fill-color);\n",
              "    }\n",
              "    60% {\n",
              "      border-color: transparent;\n",
              "      border-right-color: var(--fill-color);\n",
              "    }\n",
              "    80% {\n",
              "      border-color: transparent;\n",
              "      border-right-color: var(--fill-color);\n",
              "      border-bottom-color: var(--fill-color);\n",
              "    }\n",
              "    90% {\n",
              "      border-color: transparent;\n",
              "      border-bottom-color: var(--fill-color);\n",
              "    }\n",
              "  }\n",
              "</style>\n",
              "\n",
              "  <script>\n",
              "    async function quickchart(key) {\n",
              "      const quickchartButtonEl =\n",
              "        document.querySelector('#' + key + ' button');\n",
              "      quickchartButtonEl.disabled = true;  // To prevent multiple clicks.\n",
              "      quickchartButtonEl.classList.add('colab-df-spinner');\n",
              "      try {\n",
              "        const charts = await google.colab.kernel.invokeFunction(\n",
              "            'suggestCharts', [key], {});\n",
              "      } catch (error) {\n",
              "        console.error('Error during call to suggestCharts:', error);\n",
              "      }\n",
              "      quickchartButtonEl.classList.remove('colab-df-spinner');\n",
              "      quickchartButtonEl.classList.add('colab-df-quickchart-complete');\n",
              "    }\n",
              "    (() => {\n",
              "      let quickchartButtonEl =\n",
              "        document.querySelector('#df-d2aefb7a-8fd6-42cd-87f1-11e106526ab2 button');\n",
              "      quickchartButtonEl.style.display =\n",
              "        google.colab.kernel.accessAllowed ? 'block' : 'none';\n",
              "    })();\n",
              "  </script>\n",
              "</div>\n",
              "\n",
              "    </div>\n",
              "  </div>\n"
            ],
            "text/plain": [
              "   id     name       color  num_of_moons    mass  rings\n",
              "0   1  Mercury        gray             0    0.55      0\n",
              "1   2    Venus      yellow             0    0.82      0\n",
              "2   3    Earth        blue             1    1.00      0\n",
              "3   4     Mars         red             2    0.11      0\n",
              "4   5  Jupiter      orange            68  317.90      0\n",
              "5   6   Saturn       hazel            62   95.19      1\n",
              "6   7   Uranus  light blue            27   14.54      1\n",
              "7   8  Neptune   dark blue            14   17.15      1"
            ]
          },
          "execution_count": 2,
          "metadata": {},
          "output_type": "execute_result"
        }
      ],
      "source": [
        "# Run without changes\n",
        "\n",
        "pd.read_sql(\"\"\"\n",
        "SELECT *\n",
        "  FROM planets;\n",
        "\"\"\", conn1)"
      ]
    },
    {
      "cell_type": "markdown",
      "metadata": {
        "id": "mVWdvgy-OZSk"
      },
      "source": [
        "### Step 1\n",
        "Select just the name and color of each planet."
      ]
    },
    {
      "cell_type": "code",
      "execution_count": null,
      "metadata": {},
      "outputs": [],
      "source": [
        "# CodeGrade step1\n",
        "# Replace None with your code\n",
        "df_planets = None"
      ]
    },
    {
      "cell_type": "markdown",
      "metadata": {
        "id": "K5BXv5vAOpIR"
      },
      "source": [
        "### Step 2\n",
        "Select all columns for each planet whose 'num_of_moons' is 0."
      ]
    },
    {
      "cell_type": "code",
      "execution_count": null,
      "metadata": {},
      "outputs": [],
      "source": [
        "# CodeGrade step2\n",
        "# Replace None with your code\n",
        "df_no_moons = None"
      ]
    },
    {
      "cell_type": "markdown",
      "metadata": {
        "id": "sWqlc1-FO-Qf"
      },
      "source": [
        "### Step 3\n",
        "Select the name and mass of each planet whose name has exactly 7 letters"
      ]
    },
    {
      "cell_type": "code",
      "execution_count": null,
      "metadata": {},
      "outputs": [],
      "source": [
        "# CodeGrade step3\n",
        "# Replace None with your code\n",
        "df_name_seven = None"
      ]
    },
    {
      "cell_type": "markdown",
      "metadata": {
        "id": "54Us1LpePIsw"
      },
      "source": [
        "### Step 4\n",
        "\n",
        "Select the name and mass of each planet whose mass is less than or equal to 1.00"
      ]
    },
    {
      "cell_type": "code",
      "execution_count": null,
      "metadata": {},
      "outputs": [],
      "source": [
        "# CodeGrade step4\n",
        "# Replace None with your code\n",
        "df_mass = None"
      ]
    },
    {
      "cell_type": "markdown",
      "metadata": {
        "id": "ARB64_9SPQhj"
      },
      "source": [
        "### Step 5\n",
        "\n",
        "Select all columns for planets that have at least one moon and a mass less than 1.00"
      ]
    },
    {
      "cell_type": "code",
      "execution_count": null,
      "metadata": {},
      "outputs": [],
      "source": [
        "# CodeGrade step5\n",
        "# Replace None with your code\n",
        "df_mass_moon = None"
      ]
    },
    {
      "cell_type": "markdown",
      "metadata": {
        "id": "Jj1dzdH7Pq9r"
      },
      "source": [
        "### Step 6\n",
        "\n",
        "Select the name and color of planets that have a color containing the string \"blue\""
      ]
    },
    {
      "cell_type": "code",
      "execution_count": null,
      "metadata": {},
      "outputs": [],
      "source": [
        "# CodeGrade step6\n",
        "# Replace None with your code\n",
        "df_blue = None"
      ]
    },
    {
      "cell_type": "markdown",
      "metadata": {
        "id": "rDsKCqf1P1Zo"
      },
      "source": [
        "### Step 7\n",
        "\n",
        "Select the name of all planets, along with a new columns, has_rings, that returns \"Yes\" if the planet does have rings, and \"No\" if it does not"
      ]
    },
    {
      "cell_type": "code",
      "execution_count": null,
      "metadata": {},
      "outputs": [],
      "source": [
        "# CodeGrade step1\n",
        "# Replace None with your code\n",
        "df_has_rings = None"
      ]
    },
    {
      "cell_type": "markdown",
      "metadata": {
        "id": "td6YCsI9QJvd"
      },
      "source": [
        "## Part II: Ordering and Limiting Data with SQL"
      ]
    },
    {
      "cell_type": "markdown",
      "metadata": {
        "id": "NKVhoMkLUC0y"
      },
      "source": [
        "This database has some fictional, yet generally famous, dogs."
      ]
    },
    {
      "cell_type": "code",
      "execution_count": null,
      "metadata": {},
      "outputs": [],
      "source": [
        "# CodeGrade step0\n",
        "\n",
        "# Run this cell without changes\n",
        "\n",
        "# Create a connection\n",
        "# Note the connect is 'conn2' since they will be multiple .db used\n",
        "conn2 = sqlite3.connect('dogs.db')\n",
        "\n",
        "# Select all\n",
        "pd.read_sql(\"SELECT * FROM dogs;\", conn2)"
      ]
    },
    {
      "cell_type": "markdown",
      "metadata": {
        "id": "InJBPpSaRqmB"
      },
      "source": [
        "### Step 8\n",
        "Select the name and breed for all female dogs"
      ]
    },
    {
      "cell_type": "code",
      "execution_count": null,
      "metadata": {},
      "outputs": [],
      "source": [
        "# CodeGrade step8\n",
        "# Replace None with your code\n",
        "df_female = None"
      ]
    },
    {
      "cell_type": "markdown",
      "metadata": {
        "id": "3e9L3UZzR3c9"
      },
      "source": [
        "### Step 9\n",
        "\n",
        "Select the number of dogs that do not have a name"
      ]
    },
    {
      "cell_type": "code",
      "execution_count": null,
      "metadata": {},
      "outputs": [],
      "source": [
        "# CodeGrade step9\n",
        "# Replace None with your code\n",
        "df_num_dogs = None"
      ]
    },
    {
      "cell_type": "markdown",
      "metadata": {
        "id": "pAdMTTelULAa"
      },
      "source": [
        "### Step 10\n",
        "Select the name of all dogs that contain the double letters ff or oo\n",
        "\n",
        "HINT: Use LIKE, %, and OR"
      ]
    },
    {
      "cell_type": "code",
      "execution_count": null,
      "metadata": {},
      "outputs": [],
      "source": [
        "# CodeGrade step10\n",
        "# Replace None with your code\n",
        "df_names_double = None"
      ]
    },
    {
      "cell_type": "markdown",
      "metadata": {
        "id": "Rw6f4du3VAey"
      },
      "source": [
        "### Step 11\n",
        "Select the name and breed of only the hungry dogs and list them from youngest to oldest."
      ]
    },
    {
      "cell_type": "code",
      "execution_count": null,
      "metadata": {},
      "outputs": [],
      "source": [
        "# CodeGrade step11\n",
        "# Replace None with your code\n",
        "df_hungry = None"
      ]
    },
    {
      "cell_type": "markdown",
      "metadata": {
        "id": "kpjQiXVyVN54"
      },
      "source": [
        "### Step 12\n",
        "Select the name, age, and hungry columns for hungry dogs between the ages of two and seven. This query should also list these dogs in alphabetical order."
      ]
    },
    {
      "cell_type": "code",
      "execution_count": null,
      "metadata": {},
      "outputs": [],
      "source": [
        "# CodeGrade step12\n",
        "# Replace None with your code\n",
        "df_hungry_ages = None"
      ]
    },
    {
      "cell_type": "markdown",
      "metadata": {
        "id": "45hkMroQVlyW"
      },
      "source": [
        "## Part III"
      ]
    },
    {
      "cell_type": "markdown",
      "metadata": {
        "id": "boBTRdQRWIpX"
      },
      "source": [
        "In this part, we'll query data from a table populated with Babe Ruth's career hitting statistics. Then we'll use aggregate functions to pull interesting information from the table that basic queries cannot track."
      ]
    },
    {
      "cell_type": "code",
      "execution_count": null,
      "metadata": {
        "id": "JPiJ17qIWWO2"
      },
      "outputs": [],
      "source": [
        "# CodeGrade step0\n",
        "\n",
        "# Run this cell without changes\n",
        "\n",
        "# Create a connection\n",
        "# Note the connect is 'conn3' since they will be multiple .db used\n",
        "conn3 = sqlite3.connect('babe_ruth.db')"
      ]
    },
    {
      "cell_type": "markdown",
      "metadata": {
        "id": "zbTCvlOFX25E"
      },
      "source": [
        "The table that will be used is 'babe_ruth_stats', with the following schema:\n",
        "\n",
        "\n",
        "\n",
        "```\n",
        "CREATE TABLE babe_ruth_stats (\n",
        "  id INTEGER PRIMARY KEY,\n",
        "  year INTEGER,\n",
        "  team TEXT,\n",
        "  league TEXT,\n",
        "  doubles INTEGER,\n",
        "  triples INTEGER,\n",
        "  hits INTEGER,\n",
        "  HR INTEGER,\n",
        "  games INTEGER,\n",
        "  runs INTEGER,\n",
        "  RBI INTEGER,\n",
        "  at_bats INTEGER,\n",
        "  BB INTEGER,\n",
        "  SB INTEGER,\n",
        "  SO INTEGER,\n",
        "  AVG REAL\n",
        ")\n",
        "```\n",
        "\n"
      ]
    },
    {
      "cell_type": "markdown",
      "metadata": {
        "id": "rrJJ8MceYGYJ"
      },
      "source": [
        "Let's look at the table."
      ]
    },
    {
      "cell_type": "code",
      "execution_count": null,
      "metadata": {},
      "outputs": [],
      "source": [
        "# Run this cell without changes\n",
        "\n",
        "pd.read_sql(\"\"\"\n",
        "SELECT *\n",
        "  FROM babe_ruth_stats;\n",
        "\"\"\", conn3)"
      ]
    },
    {
      "cell_type": "markdown",
      "metadata": {
        "id": "bLnbufbdYOGN"
      },
      "source": [
        "### Step 13\n",
        "\n",
        "Return the total number of years that Babe Ruth played professional baseball"
      ]
    },
    {
      "cell_type": "code",
      "execution_count": null,
      "metadata": {},
      "outputs": [],
      "source": [
        "# CodeGrade step13\n",
        "# Replace None with your code\n",
        "df_ruth_years = None\n"
      ]
    },
    {
      "cell_type": "markdown",
      "metadata": {
        "id": "d7t4E3iVYhh9"
      },
      "source": [
        "### Step 14\n",
        "\n",
        "\n",
        "Return the total number of years Babe Ruth played with the NY Yankees (i.e. where the team value is \"NY\")."
      ]
    },
    {
      "cell_type": "code",
      "execution_count": null,
      "metadata": {},
      "outputs": [],
      "source": [
        "# CodeGrade step14\n",
        "# Replace None with your code\n",
        "df_yankees = None"
      ]
    },
    {
      "cell_type": "markdown",
      "metadata": {
        "id": "wO7B-2L5Ysu8"
      },
      "source": [
        "### Step 15\n",
        "\n",
        "Return the row with the most HR that Babe Ruth hit in one season."
      ]
    },
    {
      "cell_type": "code",
      "execution_count": null,
      "metadata": {},
      "outputs": [],
      "source": [
        "# CodeGrade step15\n",
        "# Replace None with your code\n",
        "df_hr_high = None"
      ]
    },
    {
      "cell_type": "markdown",
      "metadata": {
        "id": "L4LB6EgoY6UX"
      },
      "source": [
        "### Step 16\n",
        "\n",
        "Select the row with the least number of HR hit in one season."
      ]
    },
    {
      "cell_type": "code",
      "execution_count": null,
      "metadata": {},
      "outputs": [],
      "source": [
        "# CodeGrade step16\n",
        "# Replace None with your code\n",
        "df_hr_low = None"
      ]
    },
    {
      "cell_type": "markdown",
      "metadata": {
        "id": "va4f4f88ZFhm"
      },
      "source": [
        "### Step 17\n",
        "\n",
        "Return the total number of HR hit by Babe Ruth during his career."
      ]
    },
    {
      "cell_type": "code",
      "execution_count": null,
      "metadata": {},
      "outputs": [],
      "source": [
        "# CodeGrade step17\n",
        "# Replace None with your code\n",
        "df_hr_total = None"
      ]
    },
    {
      "cell_type": "markdown",
      "metadata": {
        "id": "476nRhNAZQzN"
      },
      "source": [
        "### Step 18\n",
        "\n",
        "Above you saw that Babe Ruth hit 0 home runs in his first year when he played only five games. To avoid this and other extreme outliers, first filter the data to include only those years in which Ruth played in at least 100 games. Then, select all of the columns for the 5 worst seasons, in terms of the number of home runs, where he played over 100 games.\n",
        "\n",
        "In other words, find the five worst HR seasons with at least 100 games played"
      ]
    },
    {
      "cell_type": "code",
      "execution_count": null,
      "metadata": {},
      "outputs": [],
      "source": [
        "# CodeGrade step19\n",
        "# Replace None with your code\n",
        "df_hr_100_games = None"
      ]
    },
    {
      "cell_type": "markdown",
      "metadata": {
        "id": "-bGQ1wXcZt9K"
      },
      "source": [
        "### Step 19\n",
        "\n",
        "We want to know the years in which Ruth successfully reached base over 300 times. We need to add hits and BB to calculate how many times Ruth reached base. Simply add the two columns together (ie: SELECT [columnName] + [columnName] AS ...) and give this value an alias of on_base. Select the year and on_base for only those years with an on_base over 300.\n",
        "\n",
        "In other words, we want the number of years where Ruth was on base over 300 times."
      ]
    },
    {
      "cell_type": "code",
      "execution_count": null,
      "metadata": {},
      "outputs": [],
      "source": [
        "# CodeGrade step19\n",
        "# Replace None with your code\n",
        "df_onbase = None"
      ]
    },
    {
      "cell_type": "markdown",
      "metadata": {
        "id": "LPodzU0qa9uR"
      },
      "source": [
        "### Step 20\n",
        "\n",
        "Select the name of the teams and the average at bats per season (as average_at_bats) where the 'average_at_bats' was over 100."
      ]
    },
    {
      "cell_type": "code",
      "execution_count": null,
      "metadata": {},
      "outputs": [],
      "source": [
        "# CodeGrade step20\n",
        "# Replace None with your code\n",
        "df_at_bats = None"
      ]
    },
    {
      "cell_type": "markdown",
      "metadata": {
        "id": "VrEm7khwVWQp"
      },
      "source": [
        "#### Close the connections"
      ]
    },
    {
      "cell_type": "code",
      "execution_count": null,
      "metadata": {
        "id": "BLLCbsH4VY4f"
      },
      "outputs": [],
      "source": [
        "# Run this cell without changes\n",
        "\n",
        "conn1.close()\n",
        "conn2.close()\n",
        "conn3.close()"
      ]
    }
  ],
  "metadata": {
    "colab": {
      "provenance": []
    },
    "kernelspec": {
      "display_name": "Python 3",
      "name": "python3"
    },
    "language_info": {
      "name": "python"
    }
  },
  "nbformat": 4,
  "nbformat_minor": 0
}
